{
  "nbformat": 4,
  "nbformat_minor": 0,
  "metadata": {
    "colab": {
      "name": "Exercício 1 Machine Learning Otávio.ipynb",
      "version": "0.3.2",
      "provenance": [],
      "collapsed_sections": []
    },
    "kernelspec": {
      "name": "python3",
      "display_name": "Python 3"
    }
  },
  "cells": [
    {
      "metadata": {
        "id": "CFmw77lYAxjg",
        "colab_type": "text"
      },
      "cell_type": "markdown",
      "source": [
        "## Exercício 2\n",
        "\n",
        "Exercício 2\n",
        "Vamos fazer algumas investigações no banco credit. Aí estão dados de cartão de crédito com as seguintes variáveis:\n",
        "\n",
        "Income - renda em milhares de dólares;\n",
        "Limit - limite de crédito;\n",
        "Rating - o score de crédito;\n",
        "Card - número de cartões de crédito que a pessoa possui;\n",
        "Age - idade;\n",
        "Education - anos de escolaridade;\n",
        "Gender - sexo;\n",
        "Student - se é estudante;\n",
        "Married - se é casado;\n",
        "Ethnicity - etnia e\n",
        "Balance - dívida média de cartão de crédito.\n",
        "\n",
        "\n",
        "1\n",
        "Estude a diferença entre o balance entre homens e mulheres usando um modelo de regressão. Interprete os resultados.\n",
        "\n",
        "Ao analisarmos o p-valor para male (0.669), verificamos que não há correlação significativa entre o balance e o sexo da pessoa, já que é maior que 0.05.\n",
        "\n",
        "2\n",
        "Estude a diferença entre o balance entre pessoas de diferentes etnias usando um modelo de regressão. Interprete os resultados.\n",
        "\n",
        "O mesmo ocorre entre a raça e o balance. Os valores elevados (>0.05) do p-valor indicam que não há correlação significativa entre as raças e o balance.\n",
        "\n",
        "3\n",
        "Estime agora um modelo de regressão utilizando todas as variáveis presentes. O que podemos dizer sobre os resultados? Todas as variáveis ajudam a explicar o balance? Quais variáveis você tiraria? Como ficaria seu novo modelo?\n",
        "\n",
        "Nem todas as variáveis ajudam a explicar o balance, já que os p-valores de gênero, casamento, etnicidade e educação são muito elevados (>0.05), apontando uma correlação não-significativa entre eles e o balance. Se retirarmos tais valores poderemos encontrar um modelo mais adequado para compreender o balance.\n",
        "\n",
        "4\n",
        "Estime o seu novo modelo. Interprete os resultados. O que podemos dizer sobre o ajuste do novo modelo em relação ao primeiro?\n",
        "\n",
        "Ao retirarmos os valores acima, observamos uma pequena diferença nos p-valores de *rating* e *age*, sendo que o primeiro aumenta e o segundo diminui. Tais dados, contudo, não indicam nenhuma mudança significativa no modelo. Ao analisarmos o R-ajustado, contudo, observamos que ele manteve seu valor de 0.954 em relação ao modelo anterior (com todas as variáveis), o que significa que possui o mesmo valor explicativo com um menor número de variáveis. Dessa forma, concluímos que o modelo atual é mais adequado em relação ao anterior.\n"
      ]
    },
    {
      "metadata": {
        "id": "vPyH705cA1Bn",
        "colab_type": "code",
        "outputId": "33d660d0-edde-4f87-accc-e2bd61a88f3f",
        "colab": {
          "base_uri": "https://localhost:8080/",
          "height": 640
        }
      },
      "cell_type": "code",
      "source": [
        "import pandas as pd\n",
        "import statsmodels.formula.api as sms\n",
        "import matplotlib.pyplot as plt\n",
        "import numpy as np\n",
        "%matplotlib inline\n",
        "\n",
        "\n",
        "\n",
        "# Tira a primeira coluna\n",
        "\n",
        "print(credit.columns)\n",
        "\n",
        "credit = credit.drop(columns=['Unnamed: 0'])\n",
        "\n",
        "# Após retirar coluna com índices...\n",
        "\n",
        "print(credit.columns)"
      ],
      "execution_count": 0,
      "outputs": [
        {
          "output_type": "stream",
          "text": [
            "Index(['Income', 'Limit', 'Rating', 'Cards', 'Age', 'Education', 'Gender',\n",
            "       'Student', 'Married', 'Ethnicity', 'Balance'],\n",
            "      dtype='object')\n"
          ],
          "name": "stdout"
        },
        {
          "output_type": "error",
          "ename": "ValueError",
          "evalue": "ignored",
          "traceback": [
            "\u001b[0;31m---------------------------------------------------------------------------\u001b[0m",
            "\u001b[0;31mValueError\u001b[0m                                Traceback (most recent call last)",
            "\u001b[0;32m<ipython-input-17-b87783dad3eb>\u001b[0m in \u001b[0;36m<module>\u001b[0;34m()\u001b[0m\n\u001b[1;32m     11\u001b[0m \u001b[0mprint\u001b[0m\u001b[0;34m(\u001b[0m\u001b[0mcredit\u001b[0m\u001b[0;34m.\u001b[0m\u001b[0mcolumns\u001b[0m\u001b[0;34m)\u001b[0m\u001b[0;34m\u001b[0m\u001b[0;34m\u001b[0m\u001b[0m\n\u001b[1;32m     12\u001b[0m \u001b[0;34m\u001b[0m\u001b[0m\n\u001b[0;32m---> 13\u001b[0;31m \u001b[0mcredit\u001b[0m \u001b[0;34m=\u001b[0m \u001b[0mcredit\u001b[0m\u001b[0;34m.\u001b[0m\u001b[0mdrop\u001b[0m\u001b[0;34m(\u001b[0m\u001b[0mcolumns\u001b[0m\u001b[0;34m=\u001b[0m\u001b[0;34m[\u001b[0m\u001b[0;34m'Unnamed: 0'\u001b[0m\u001b[0;34m]\u001b[0m\u001b[0;34m)\u001b[0m\u001b[0;34m\u001b[0m\u001b[0;34m\u001b[0m\u001b[0m\n\u001b[0m\u001b[1;32m     14\u001b[0m \u001b[0;34m\u001b[0m\u001b[0m\n\u001b[1;32m     15\u001b[0m \u001b[0;31m# Após retirar coluna com índices...\u001b[0m\u001b[0;34m\u001b[0m\u001b[0;34m\u001b[0m\u001b[0;34m\u001b[0m\u001b[0m\n",
            "\u001b[0;32m/usr/local/lib/python3.6/dist-packages/pandas/core/generic.py\u001b[0m in \u001b[0;36mdrop\u001b[0;34m(self, labels, axis, index, columns, level, inplace, errors)\u001b[0m\n\u001b[1;32m   2528\u001b[0m         \u001b[0;32mfor\u001b[0m \u001b[0maxis\u001b[0m\u001b[0;34m,\u001b[0m \u001b[0mlabels\u001b[0m \u001b[0;32min\u001b[0m \u001b[0maxes\u001b[0m\u001b[0;34m.\u001b[0m\u001b[0mitems\u001b[0m\u001b[0;34m(\u001b[0m\u001b[0;34m)\u001b[0m\u001b[0;34m:\u001b[0m\u001b[0;34m\u001b[0m\u001b[0;34m\u001b[0m\u001b[0m\n\u001b[1;32m   2529\u001b[0m             \u001b[0;32mif\u001b[0m \u001b[0mlabels\u001b[0m \u001b[0;32mis\u001b[0m \u001b[0;32mnot\u001b[0m \u001b[0;32mNone\u001b[0m\u001b[0;34m:\u001b[0m\u001b[0;34m\u001b[0m\u001b[0;34m\u001b[0m\u001b[0m\n\u001b[0;32m-> 2530\u001b[0;31m                 \u001b[0mobj\u001b[0m \u001b[0;34m=\u001b[0m \u001b[0mobj\u001b[0m\u001b[0;34m.\u001b[0m\u001b[0m_drop_axis\u001b[0m\u001b[0;34m(\u001b[0m\u001b[0mlabels\u001b[0m\u001b[0;34m,\u001b[0m \u001b[0maxis\u001b[0m\u001b[0;34m,\u001b[0m \u001b[0mlevel\u001b[0m\u001b[0;34m=\u001b[0m\u001b[0mlevel\u001b[0m\u001b[0;34m,\u001b[0m \u001b[0merrors\u001b[0m\u001b[0;34m=\u001b[0m\u001b[0merrors\u001b[0m\u001b[0;34m)\u001b[0m\u001b[0;34m\u001b[0m\u001b[0;34m\u001b[0m\u001b[0m\n\u001b[0m\u001b[1;32m   2531\u001b[0m \u001b[0;34m\u001b[0m\u001b[0m\n\u001b[1;32m   2532\u001b[0m         \u001b[0;32mif\u001b[0m \u001b[0minplace\u001b[0m\u001b[0;34m:\u001b[0m\u001b[0;34m\u001b[0m\u001b[0;34m\u001b[0m\u001b[0m\n",
            "\u001b[0;32m/usr/local/lib/python3.6/dist-packages/pandas/core/generic.py\u001b[0m in \u001b[0;36m_drop_axis\u001b[0;34m(self, labels, axis, level, errors)\u001b[0m\n\u001b[1;32m   2560\u001b[0m                 \u001b[0mnew_axis\u001b[0m \u001b[0;34m=\u001b[0m \u001b[0maxis\u001b[0m\u001b[0;34m.\u001b[0m\u001b[0mdrop\u001b[0m\u001b[0;34m(\u001b[0m\u001b[0mlabels\u001b[0m\u001b[0;34m,\u001b[0m \u001b[0mlevel\u001b[0m\u001b[0;34m=\u001b[0m\u001b[0mlevel\u001b[0m\u001b[0;34m,\u001b[0m \u001b[0merrors\u001b[0m\u001b[0;34m=\u001b[0m\u001b[0merrors\u001b[0m\u001b[0;34m)\u001b[0m\u001b[0;34m\u001b[0m\u001b[0;34m\u001b[0m\u001b[0m\n\u001b[1;32m   2561\u001b[0m             \u001b[0;32melse\u001b[0m\u001b[0;34m:\u001b[0m\u001b[0;34m\u001b[0m\u001b[0;34m\u001b[0m\u001b[0m\n\u001b[0;32m-> 2562\u001b[0;31m                 \u001b[0mnew_axis\u001b[0m \u001b[0;34m=\u001b[0m \u001b[0maxis\u001b[0m\u001b[0;34m.\u001b[0m\u001b[0mdrop\u001b[0m\u001b[0;34m(\u001b[0m\u001b[0mlabels\u001b[0m\u001b[0;34m,\u001b[0m \u001b[0merrors\u001b[0m\u001b[0;34m=\u001b[0m\u001b[0merrors\u001b[0m\u001b[0;34m)\u001b[0m\u001b[0;34m\u001b[0m\u001b[0;34m\u001b[0m\u001b[0m\n\u001b[0m\u001b[1;32m   2563\u001b[0m             \u001b[0mdropped\u001b[0m \u001b[0;34m=\u001b[0m \u001b[0mself\u001b[0m\u001b[0;34m.\u001b[0m\u001b[0mreindex\u001b[0m\u001b[0;34m(\u001b[0m\u001b[0;34m**\u001b[0m\u001b[0;34m{\u001b[0m\u001b[0maxis_name\u001b[0m\u001b[0;34m:\u001b[0m \u001b[0mnew_axis\u001b[0m\u001b[0;34m}\u001b[0m\u001b[0;34m)\u001b[0m\u001b[0;34m\u001b[0m\u001b[0;34m\u001b[0m\u001b[0m\n\u001b[1;32m   2564\u001b[0m             \u001b[0;32mtry\u001b[0m\u001b[0;34m:\u001b[0m\u001b[0;34m\u001b[0m\u001b[0;34m\u001b[0m\u001b[0m\n",
            "\u001b[0;32m/usr/local/lib/python3.6/dist-packages/pandas/core/indexes/base.py\u001b[0m in \u001b[0;36mdrop\u001b[0;34m(self, labels, errors)\u001b[0m\n\u001b[1;32m   3742\u001b[0m             \u001b[0;32mif\u001b[0m \u001b[0merrors\u001b[0m \u001b[0;34m!=\u001b[0m \u001b[0;34m'ignore'\u001b[0m\u001b[0;34m:\u001b[0m\u001b[0;34m\u001b[0m\u001b[0;34m\u001b[0m\u001b[0m\n\u001b[1;32m   3743\u001b[0m                 raise ValueError('labels %s not contained in axis' %\n\u001b[0;32m-> 3744\u001b[0;31m                                  labels[mask])\n\u001b[0m\u001b[1;32m   3745\u001b[0m             \u001b[0mindexer\u001b[0m \u001b[0;34m=\u001b[0m \u001b[0mindexer\u001b[0m\u001b[0;34m[\u001b[0m\u001b[0;34m~\u001b[0m\u001b[0mmask\u001b[0m\u001b[0;34m]\u001b[0m\u001b[0;34m\u001b[0m\u001b[0;34m\u001b[0m\u001b[0m\n\u001b[1;32m   3746\u001b[0m         \u001b[0;32mreturn\u001b[0m \u001b[0mself\u001b[0m\u001b[0;34m.\u001b[0m\u001b[0mdelete\u001b[0m\u001b[0;34m(\u001b[0m\u001b[0mindexer\u001b[0m\u001b[0;34m)\u001b[0m\u001b[0;34m\u001b[0m\u001b[0;34m\u001b[0m\u001b[0m\n",
            "\u001b[0;31mValueError\u001b[0m: labels ['Unnamed: 0'] not contained in axis"
          ]
        }
      ]
    },
    {
      "metadata": {
        "id": "0vbF4fj8rkD_",
        "colab_type": "code",
        "outputId": "0531e69d-a481-4eb3-c8e1-c63d0b0c0be9",
        "colab": {
          "base_uri": "https://localhost:8080/",
          "height": 119
        }
      },
      "cell_type": "code",
      "source": [
        "credit = pd.read_csv(\"http://www-bcf.usc.edu/~gareth/ISL/Credit.csv\") \n",
        "print(credit.columns)\n",
        "credit = credit.drop(columns=['Unnamed: 0'])\n",
        "print(credit.columns)\n"
      ],
      "execution_count": 0,
      "outputs": [
        {
          "output_type": "stream",
          "text": [
            "Index(['Unnamed: 0', 'Income', 'Limit', 'Rating', 'Cards', 'Age', 'Education',\n",
            "       'Gender', 'Student', 'Married', 'Ethnicity', 'Balance'],\n",
            "      dtype='object')\n",
            "Index(['Income', 'Limit', 'Rating', 'Cards', 'Age', 'Education', 'Gender',\n",
            "       'Student', 'Married', 'Ethnicity', 'Balance'],\n",
            "      dtype='object')\n"
          ],
          "name": "stdout"
        }
      ]
    },
    {
      "metadata": {
        "id": "VJWfVLdsBEAA",
        "colab_type": "code",
        "outputId": "2d5cee4f-c12b-4692-ebd9-b938bc9abc06",
        "colab": {
          "base_uri": "https://localhost:8080/",
          "height": 204
        }
      },
      "cell_type": "code",
      "source": [
        "credit.head()\n"
      ],
      "execution_count": 0,
      "outputs": [
        {
          "output_type": "execute_result",
          "data": {
            "text/html": [
              "<div>\n",
              "<style scoped>\n",
              "    .dataframe tbody tr th:only-of-type {\n",
              "        vertical-align: middle;\n",
              "    }\n",
              "\n",
              "    .dataframe tbody tr th {\n",
              "        vertical-align: top;\n",
              "    }\n",
              "\n",
              "    .dataframe thead th {\n",
              "        text-align: right;\n",
              "    }\n",
              "</style>\n",
              "<table border=\"1\" class=\"dataframe\">\n",
              "  <thead>\n",
              "    <tr style=\"text-align: right;\">\n",
              "      <th></th>\n",
              "      <th>Income</th>\n",
              "      <th>Limit</th>\n",
              "      <th>Rating</th>\n",
              "      <th>Cards</th>\n",
              "      <th>Age</th>\n",
              "      <th>Education</th>\n",
              "      <th>Gender</th>\n",
              "      <th>Student</th>\n",
              "      <th>Married</th>\n",
              "      <th>Ethnicity</th>\n",
              "      <th>Balance</th>\n",
              "    </tr>\n",
              "  </thead>\n",
              "  <tbody>\n",
              "    <tr>\n",
              "      <th>0</th>\n",
              "      <td>14.891</td>\n",
              "      <td>3606</td>\n",
              "      <td>283</td>\n",
              "      <td>2</td>\n",
              "      <td>34</td>\n",
              "      <td>11</td>\n",
              "      <td>Male</td>\n",
              "      <td>No</td>\n",
              "      <td>Yes</td>\n",
              "      <td>Caucasian</td>\n",
              "      <td>333</td>\n",
              "    </tr>\n",
              "    <tr>\n",
              "      <th>1</th>\n",
              "      <td>106.025</td>\n",
              "      <td>6645</td>\n",
              "      <td>483</td>\n",
              "      <td>3</td>\n",
              "      <td>82</td>\n",
              "      <td>15</td>\n",
              "      <td>Female</td>\n",
              "      <td>Yes</td>\n",
              "      <td>Yes</td>\n",
              "      <td>Asian</td>\n",
              "      <td>903</td>\n",
              "    </tr>\n",
              "    <tr>\n",
              "      <th>2</th>\n",
              "      <td>104.593</td>\n",
              "      <td>7075</td>\n",
              "      <td>514</td>\n",
              "      <td>4</td>\n",
              "      <td>71</td>\n",
              "      <td>11</td>\n",
              "      <td>Male</td>\n",
              "      <td>No</td>\n",
              "      <td>No</td>\n",
              "      <td>Asian</td>\n",
              "      <td>580</td>\n",
              "    </tr>\n",
              "    <tr>\n",
              "      <th>3</th>\n",
              "      <td>148.924</td>\n",
              "      <td>9504</td>\n",
              "      <td>681</td>\n",
              "      <td>3</td>\n",
              "      <td>36</td>\n",
              "      <td>11</td>\n",
              "      <td>Female</td>\n",
              "      <td>No</td>\n",
              "      <td>No</td>\n",
              "      <td>Asian</td>\n",
              "      <td>964</td>\n",
              "    </tr>\n",
              "    <tr>\n",
              "      <th>4</th>\n",
              "      <td>55.882</td>\n",
              "      <td>4897</td>\n",
              "      <td>357</td>\n",
              "      <td>2</td>\n",
              "      <td>68</td>\n",
              "      <td>16</td>\n",
              "      <td>Male</td>\n",
              "      <td>No</td>\n",
              "      <td>Yes</td>\n",
              "      <td>Caucasian</td>\n",
              "      <td>331</td>\n",
              "    </tr>\n",
              "  </tbody>\n",
              "</table>\n",
              "</div>"
            ],
            "text/plain": [
              "    Income  Limit  Rating  Cards  Age  Education  Gender Student Married  \\\n",
              "0   14.891   3606     283      2   34         11    Male      No     Yes   \n",
              "1  106.025   6645     483      3   82         15  Female     Yes     Yes   \n",
              "2  104.593   7075     514      4   71         11    Male      No      No   \n",
              "3  148.924   9504     681      3   36         11  Female      No      No   \n",
              "4   55.882   4897     357      2   68         16    Male      No     Yes   \n",
              "\n",
              "   Ethnicity  Balance  \n",
              "0  Caucasian      333  \n",
              "1      Asian      903  \n",
              "2      Asian      580  \n",
              "3      Asian      964  \n",
              "4  Caucasian      331  "
            ]
          },
          "metadata": {
            "tags": []
          },
          "execution_count": 20
        }
      ]
    },
    {
      "metadata": {
        "id": "P5CNTtaSBRaL",
        "colab_type": "code",
        "outputId": "c4ba0fb0-01ad-43da-f6f7-48d71dfc4187",
        "colab": {
          "base_uri": "https://localhost:8080/",
          "height": 442
        }
      },
      "cell_type": "code",
      "source": [
        "model1 = sms.ols(formula=\"Balance~Gender\", data=credit).fit()\n",
        "print(model1.summary())"
      ],
      "execution_count": 0,
      "outputs": [
        {
          "output_type": "stream",
          "text": [
            "                            OLS Regression Results                            \n",
            "==============================================================================\n",
            "Dep. Variable:                Balance   R-squared:                       0.000\n",
            "Model:                            OLS   Adj. R-squared:                 -0.002\n",
            "Method:                 Least Squares   F-statistic:                    0.1836\n",
            "Date:                Wed, 13 Mar 2019   Prob (F-statistic):              0.669\n",
            "Time:                        20:17:30   Log-Likelihood:                -3019.3\n",
            "No. Observations:                 400   AIC:                             6043.\n",
            "Df Residuals:                     398   BIC:                             6051.\n",
            "Df Model:                           1                                         \n",
            "Covariance Type:            nonrobust                                         \n",
            "==================================================================================\n",
            "                     coef    std err          t      P>|t|      [0.025      0.975]\n",
            "----------------------------------------------------------------------------------\n",
            "Intercept        529.5362     31.988     16.554      0.000     466.649     592.423\n",
            "Gender[T.Male]   -19.7331     46.051     -0.429      0.669    -110.267      70.801\n",
            "==============================================================================\n",
            "Omnibus:                       28.438   Durbin-Watson:                   1.940\n",
            "Prob(Omnibus):                  0.000   Jarque-Bera (JB):               27.346\n",
            "Skew:                           0.583   Prob(JB):                     1.15e-06\n",
            "Kurtosis:                       2.471   Cond. No.                         2.58\n",
            "==============================================================================\n",
            "\n",
            "Warnings:\n",
            "[1] Standard Errors assume that the covariance matrix of the errors is correctly specified.\n"
          ],
          "name": "stdout"
        }
      ]
    },
    {
      "metadata": {
        "id": "hgpg5GgEDnlu",
        "colab_type": "code",
        "outputId": "3b3988b5-806c-4a16-eda6-9944cc683d39",
        "colab": {
          "base_uri": "https://localhost:8080/",
          "height": 459
        }
      },
      "cell_type": "code",
      "source": [
        "#elaborar um modelo estimando as diferenças de raça\n",
        "\n",
        "model2 = sms.ols(formula=\"Balance~Ethnicity\", data=credit).fit()\n",
        "print(model2.summary())"
      ],
      "execution_count": 0,
      "outputs": [
        {
          "output_type": "stream",
          "text": [
            "                            OLS Regression Results                            \n",
            "==============================================================================\n",
            "Dep. Variable:                Balance   R-squared:                       0.000\n",
            "Model:                            OLS   Adj. R-squared:                 -0.005\n",
            "Method:                 Least Squares   F-statistic:                   0.04344\n",
            "Date:                Mon, 11 Mar 2019   Prob (F-statistic):              0.957\n",
            "Time:                        23:22:05   Log-Likelihood:                -3019.3\n",
            "No. Observations:                 400   AIC:                             6045.\n",
            "Df Residuals:                     397   BIC:                             6057.\n",
            "Df Model:                           2                                         \n",
            "Covariance Type:            nonrobust                                         \n",
            "==========================================================================================\n",
            "                             coef    std err          t      P>|t|      [0.025      0.975]\n",
            "------------------------------------------------------------------------------------------\n",
            "Intercept                531.0000     46.319     11.464      0.000     439.939     622.061\n",
            "Ethnicity[T.Asian]       -18.6863     65.021     -0.287      0.774    -146.515     109.142\n",
            "Ethnicity[T.Caucasian]   -12.5025     56.681     -0.221      0.826    -123.935      98.930\n",
            "==============================================================================\n",
            "Omnibus:                       28.829   Durbin-Watson:                   1.946\n",
            "Prob(Omnibus):                  0.000   Jarque-Bera (JB):               27.395\n",
            "Skew:                           0.581   Prob(JB):                     1.13e-06\n",
            "Kurtosis:                       2.460   Cond. No.                         4.39\n",
            "==============================================================================\n",
            "\n",
            "Warnings:\n",
            "[1] Standard Errors assume that the covariance matrix of the errors is correctly specified.\n"
          ],
          "name": "stdout"
        }
      ]
    },
    {
      "metadata": {
        "id": "35mLE2krFzLR",
        "colab_type": "code",
        "outputId": "3f15eb1a-a9f8-4c82-c731-fb4dc975ec6a",
        "colab": {
          "base_uri": "https://localhost:8080/",
          "height": 646
        }
      },
      "cell_type": "code",
      "source": [
        "model3 = sms.ols(formula=\"Balance~Income+Limit+Rating+Cards+Age+Education+Gender+Student+Married+Ethnicity\", data=credit).fit()\n",
        "print(model3.summary())"
      ],
      "execution_count": 0,
      "outputs": [
        {
          "output_type": "stream",
          "text": [
            "                            OLS Regression Results                            \n",
            "==============================================================================\n",
            "Dep. Variable:                Balance   R-squared:                       0.955\n",
            "Model:                            OLS   Adj. R-squared:                  0.954\n",
            "Method:                 Least Squares   F-statistic:                     750.3\n",
            "Date:                Mon, 11 Mar 2019   Prob (F-statistic):          1.11e-253\n",
            "Time:                        23:31:47   Log-Likelihood:                -2398.7\n",
            "No. Observations:                 400   AIC:                             4821.\n",
            "Df Residuals:                     388   BIC:                             4869.\n",
            "Df Model:                          11                                         \n",
            "Covariance Type:            nonrobust                                         \n",
            "==========================================================================================\n",
            "                             coef    std err          t      P>|t|      [0.025      0.975]\n",
            "------------------------------------------------------------------------------------------\n",
            "Intercept               -489.8611     35.801    -13.683      0.000    -560.250    -419.473\n",
            "Gender[T.Male]            10.6532      9.914      1.075      0.283      -8.839      30.145\n",
            "Student[T.Yes]           425.7474     16.723     25.459      0.000     392.869     458.626\n",
            "Married[T.Yes]            -8.5339     10.363     -0.824      0.411     -28.908      11.841\n",
            "Ethnicity[T.Asian]        16.8042     14.119      1.190      0.235     -10.955      44.564\n",
            "Ethnicity[T.Caucasian]    10.1070     12.210      0.828      0.408     -13.899      34.113\n",
            "Income                    -7.8031      0.234    -33.314      0.000      -8.264      -7.343\n",
            "Limit                      0.1909      0.033      5.824      0.000       0.126       0.255\n",
            "Rating                     1.1365      0.491      2.315      0.021       0.171       2.102\n",
            "Cards                     17.7245      4.341      4.083      0.000       9.190      26.259\n",
            "Age                       -0.6139      0.294     -2.088      0.037      -1.192      -0.036\n",
            "Education                 -1.0989      1.598     -0.688      0.492      -4.241       2.043\n",
            "==============================================================================\n",
            "Omnibus:                       34.899   Durbin-Watson:                   1.968\n",
            "Prob(Omnibus):                  0.000   Jarque-Bera (JB):               41.766\n",
            "Skew:                           0.782   Prob(JB):                     8.52e-10\n",
            "Kurtosis:                       3.241   Cond. No.                     3.87e+04\n",
            "==============================================================================\n",
            "\n",
            "Warnings:\n",
            "[1] Standard Errors assume that the covariance matrix of the errors is correctly specified.\n",
            "[2] The condition number is large, 3.87e+04. This might indicate that there are\n",
            "strong multicollinearity or other numerical problems.\n"
          ],
          "name": "stdout"
        }
      ]
    },
    {
      "metadata": {
        "id": "sDaN0RAwqrLE",
        "colab_type": "code",
        "outputId": "cfa364dd-e997-49b1-8808-91d413a0518f",
        "colab": {
          "base_uri": "https://localhost:8080/",
          "height": 561
        }
      },
      "cell_type": "code",
      "source": [
        "model4 = sms.ols(formula=\"Balance~Income+Limit+Rating+Cards+Age+Student\", data=credit).fit()\n",
        "print(model4.summary())"
      ],
      "execution_count": 0,
      "outputs": [
        {
          "output_type": "stream",
          "text": [
            "                            OLS Regression Results                            \n",
            "==============================================================================\n",
            "Dep. Variable:                Balance   R-squared:                       0.955\n",
            "Model:                            OLS   Adj. R-squared:                  0.954\n",
            "Method:                 Least Squares   F-statistic:                     1380.\n",
            "Date:                Wed, 13 Mar 2019   Prob (F-statistic):          1.58e-260\n",
            "Time:                        20:17:43   Log-Likelihood:                -2400.5\n",
            "No. Observations:                 400   AIC:                             4815.\n",
            "Df Residuals:                     393   BIC:                             4843.\n",
            "Df Model:                           6                                         \n",
            "Covariance Type:            nonrobust                                         \n",
            "==================================================================================\n",
            "                     coef    std err          t      P>|t|      [0.025      0.975]\n",
            "----------------------------------------------------------------------------------\n",
            "Intercept       -493.7342     24.825    -19.889      0.000    -542.540    -444.928\n",
            "Student[T.Yes]   425.6099     16.510     25.780      0.000     393.152     458.068\n",
            "Income            -7.7951      0.233    -33.395      0.000      -8.254      -7.336\n",
            "Limit              0.1937      0.032      5.981      0.000       0.130       0.257\n",
            "Rating             1.0912      0.485      2.251      0.025       0.138       2.044\n",
            "Cards             18.2119      4.319      4.217      0.000       9.721      26.702\n",
            "Age               -0.6241      0.292     -2.139      0.033      -1.198      -0.050\n",
            "==============================================================================\n",
            "Omnibus:                       34.091   Durbin-Watson:                   1.954\n",
            "Prob(Omnibus):                  0.000   Jarque-Bera (JB):               40.623\n",
            "Skew:                           0.772   Prob(JB):                     1.51e-09\n",
            "Kurtosis:                       3.225   Cond. No.                     2.66e+04\n",
            "==============================================================================\n",
            "\n",
            "Warnings:\n",
            "[1] Standard Errors assume that the covariance matrix of the errors is correctly specified.\n",
            "[2] The condition number is large, 2.66e+04. This might indicate that there are\n",
            "strong multicollinearity or other numerical problems.\n"
          ],
          "name": "stdout"
        }
      ]
    },
    {
      "metadata": {
        "id": "c_N0t7jkSIAM",
        "colab_type": "text"
      },
      "cell_type": "markdown",
      "source": [
        "## Exercício 1\n",
        "\n",
        "1\n",
        "Abra o banco de dados Boston e estime 3 regressões:\n",
        "\n",
        "A primeira prevendo medv usando como preditor lstat;\n",
        "A segunda prevendo medv usando como preditor age;\n",
        "A terceira usando ambos os preditores.\n",
        "O que podemos dizer sobre o comportamento dos coeficientes estimados? E sobre o ajuste dos modelos?\n",
        "\n",
        "As duas primeiras regressões apontam um p-valor igual a 0, indicando uma correlação estatística significativa entre as variáveis. Quando usamos ambos os preditores temos um p-valor 0.05 para *age* e 0 para lstat, o que indica que essas variáveis, quando associadas, também possuem influência para o valor de medv.\n",
        "\n",
        "2\n",
        "Estime uma regressão usando todas as variáveis como preditoras. Todas são úteis para prever medv? Quais você deixaria e quais tiraria? Por quê?\n",
        "\n",
        "Nem todas são úteis para prever medv, já que *age* e *indus* assumem p-valores muito altos. Sendo assim, devemos retirá-las para melhor observar as outras variáveis como preditoras.\n",
        "\n",
        "Como foi o ajuste desse modelo?\n",
        "\n",
        "O modelo possui alto poder explicativo, mesmo com variáveis cuja correlação estatística não é significativa. \n",
        "\n",
        "Agora tire as variáveis que você considerou que não ajudam a estimação de medv. O que aconteceu com o ajuste do modelo?\n",
        "\n",
        "Não há alterações significativas no modelo com a exclusão das variáveis indus e age. Ao mesmo tempo conseguimos um valor de R-ajustado similar, até maior que o primeiro (.729 > .728) o que significa que o modelo manteve seu poder explicativo com menos variáveis. Sendo assim, temos um modelo mais simples com um grande poder explicativo, de 72,9%."
      ]
    },
    {
      "metadata": {
        "id": "BabyulyrSSQe",
        "colab_type": "code",
        "colab": {}
      },
      "cell_type": "code",
      "source": [
        "import pandas as pd\n",
        "import statsmodels.formula.api as sms\n",
        "import numpy as np\n",
        "%matplotlib inline"
      ],
      "execution_count": 0,
      "outputs": []
    },
    {
      "metadata": {
        "id": "Wq6276oViAzz",
        "colab_type": "code",
        "outputId": "7cbda94b-233b-4b6f-cc5f-219ad883a422",
        "colab": {
          "base_uri": "https://localhost:8080/",
          "height": 289
        }
      },
      "cell_type": "code",
      "source": [
        "boston = pd.DataFrame.from_csv(\"https://raw.githubusercontent.com/selva86/datasets/master/BostonHousing.csv\")\n",
        "boston.head()"
      ],
      "execution_count": 0,
      "outputs": [
        {
          "output_type": "stream",
          "text": [
            "/usr/local/lib/python3.6/dist-packages/ipykernel_launcher.py:1: FutureWarning: from_csv is deprecated. Please use read_csv(...) instead. Note that some of the default arguments are different, so please refer to the documentation for from_csv when changing your function calls\n",
            "  \"\"\"Entry point for launching an IPython kernel.\n"
          ],
          "name": "stderr"
        },
        {
          "output_type": "execute_result",
          "data": {
            "text/html": [
              "<div>\n",
              "<style scoped>\n",
              "    .dataframe tbody tr th:only-of-type {\n",
              "        vertical-align: middle;\n",
              "    }\n",
              "\n",
              "    .dataframe tbody tr th {\n",
              "        vertical-align: top;\n",
              "    }\n",
              "\n",
              "    .dataframe thead th {\n",
              "        text-align: right;\n",
              "    }\n",
              "</style>\n",
              "<table border=\"1\" class=\"dataframe\">\n",
              "  <thead>\n",
              "    <tr style=\"text-align: right;\">\n",
              "      <th></th>\n",
              "      <th>zn</th>\n",
              "      <th>indus</th>\n",
              "      <th>chas</th>\n",
              "      <th>nox</th>\n",
              "      <th>rm</th>\n",
              "      <th>age</th>\n",
              "      <th>dis</th>\n",
              "      <th>rad</th>\n",
              "      <th>tax</th>\n",
              "      <th>ptratio</th>\n",
              "      <th>b</th>\n",
              "      <th>lstat</th>\n",
              "      <th>medv</th>\n",
              "    </tr>\n",
              "    <tr>\n",
              "      <th>crim</th>\n",
              "      <th></th>\n",
              "      <th></th>\n",
              "      <th></th>\n",
              "      <th></th>\n",
              "      <th></th>\n",
              "      <th></th>\n",
              "      <th></th>\n",
              "      <th></th>\n",
              "      <th></th>\n",
              "      <th></th>\n",
              "      <th></th>\n",
              "      <th></th>\n",
              "      <th></th>\n",
              "    </tr>\n",
              "  </thead>\n",
              "  <tbody>\n",
              "    <tr>\n",
              "      <th>0.00632</th>\n",
              "      <td>18.0</td>\n",
              "      <td>2.31</td>\n",
              "      <td>0</td>\n",
              "      <td>0.538</td>\n",
              "      <td>6.575</td>\n",
              "      <td>65.2</td>\n",
              "      <td>4.0900</td>\n",
              "      <td>1</td>\n",
              "      <td>296</td>\n",
              "      <td>15.3</td>\n",
              "      <td>396.90</td>\n",
              "      <td>4.98</td>\n",
              "      <td>24.0</td>\n",
              "    </tr>\n",
              "    <tr>\n",
              "      <th>0.02731</th>\n",
              "      <td>0.0</td>\n",
              "      <td>7.07</td>\n",
              "      <td>0</td>\n",
              "      <td>0.469</td>\n",
              "      <td>6.421</td>\n",
              "      <td>78.9</td>\n",
              "      <td>4.9671</td>\n",
              "      <td>2</td>\n",
              "      <td>242</td>\n",
              "      <td>17.8</td>\n",
              "      <td>396.90</td>\n",
              "      <td>9.14</td>\n",
              "      <td>21.6</td>\n",
              "    </tr>\n",
              "    <tr>\n",
              "      <th>0.02729</th>\n",
              "      <td>0.0</td>\n",
              "      <td>7.07</td>\n",
              "      <td>0</td>\n",
              "      <td>0.469</td>\n",
              "      <td>7.185</td>\n",
              "      <td>61.1</td>\n",
              "      <td>4.9671</td>\n",
              "      <td>2</td>\n",
              "      <td>242</td>\n",
              "      <td>17.8</td>\n",
              "      <td>392.83</td>\n",
              "      <td>4.03</td>\n",
              "      <td>34.7</td>\n",
              "    </tr>\n",
              "    <tr>\n",
              "      <th>0.03237</th>\n",
              "      <td>0.0</td>\n",
              "      <td>2.18</td>\n",
              "      <td>0</td>\n",
              "      <td>0.458</td>\n",
              "      <td>6.998</td>\n",
              "      <td>45.8</td>\n",
              "      <td>6.0622</td>\n",
              "      <td>3</td>\n",
              "      <td>222</td>\n",
              "      <td>18.7</td>\n",
              "      <td>394.63</td>\n",
              "      <td>2.94</td>\n",
              "      <td>33.4</td>\n",
              "    </tr>\n",
              "    <tr>\n",
              "      <th>0.06905</th>\n",
              "      <td>0.0</td>\n",
              "      <td>2.18</td>\n",
              "      <td>0</td>\n",
              "      <td>0.458</td>\n",
              "      <td>7.147</td>\n",
              "      <td>54.2</td>\n",
              "      <td>6.0622</td>\n",
              "      <td>3</td>\n",
              "      <td>222</td>\n",
              "      <td>18.7</td>\n",
              "      <td>396.90</td>\n",
              "      <td>5.33</td>\n",
              "      <td>36.2</td>\n",
              "    </tr>\n",
              "  </tbody>\n",
              "</table>\n",
              "</div>"
            ],
            "text/plain": [
              "           zn  indus  chas    nox     rm   age     dis  rad  tax  ptratio  \\\n",
              "crim                                                                        \n",
              "0.00632  18.0   2.31     0  0.538  6.575  65.2  4.0900    1  296     15.3   \n",
              "0.02731   0.0   7.07     0  0.469  6.421  78.9  4.9671    2  242     17.8   \n",
              "0.02729   0.0   7.07     0  0.469  7.185  61.1  4.9671    2  242     17.8   \n",
              "0.03237   0.0   2.18     0  0.458  6.998  45.8  6.0622    3  222     18.7   \n",
              "0.06905   0.0   2.18     0  0.458  7.147  54.2  6.0622    3  222     18.7   \n",
              "\n",
              "              b  lstat  medv  \n",
              "crim                          \n",
              "0.00632  396.90   4.98  24.0  \n",
              "0.02731  396.90   9.14  21.6  \n",
              "0.02729  392.83   4.03  34.7  \n",
              "0.03237  394.63   2.94  33.4  \n",
              "0.06905  396.90   5.33  36.2  "
            ]
          },
          "metadata": {
            "tags": []
          },
          "execution_count": 2
        }
      ]
    },
    {
      "metadata": {
        "id": "BfMEHrq8iPAw",
        "colab_type": "code",
        "outputId": "44eaf0a1-8f85-4b4d-9242-43f9d361fd29",
        "colab": {
          "base_uri": "https://localhost:8080/",
          "height": 442
        }
      },
      "cell_type": "code",
      "source": [
        "model5 = sms.ols(formula=\"medv ~ lstat\", data=boston).fit()\n",
        "print(model5.summary())"
      ],
      "execution_count": 0,
      "outputs": [
        {
          "output_type": "stream",
          "text": [
            "                            OLS Regression Results                            \n",
            "==============================================================================\n",
            "Dep. Variable:                   medv   R-squared:                       0.544\n",
            "Model:                            OLS   Adj. R-squared:                  0.543\n",
            "Method:                 Least Squares   F-statistic:                     601.6\n",
            "Date:                Mon, 18 Mar 2019   Prob (F-statistic):           5.08e-88\n",
            "Time:                        20:43:13   Log-Likelihood:                -1641.5\n",
            "No. Observations:                 506   AIC:                             3287.\n",
            "Df Residuals:                     504   BIC:                             3295.\n",
            "Df Model:                           1                                         \n",
            "Covariance Type:            nonrobust                                         \n",
            "==============================================================================\n",
            "                 coef    std err          t      P>|t|      [0.025      0.975]\n",
            "------------------------------------------------------------------------------\n",
            "Intercept     34.5538      0.563     61.415      0.000      33.448      35.659\n",
            "lstat         -0.9500      0.039    -24.528      0.000      -1.026      -0.874\n",
            "==============================================================================\n",
            "Omnibus:                      137.043   Durbin-Watson:                   0.892\n",
            "Prob(Omnibus):                  0.000   Jarque-Bera (JB):              291.373\n",
            "Skew:                           1.453   Prob(JB):                     5.36e-64\n",
            "Kurtosis:                       5.319   Cond. No.                         29.7\n",
            "==============================================================================\n",
            "\n",
            "Warnings:\n",
            "[1] Standard Errors assume that the covariance matrix of the errors is correctly specified.\n"
          ],
          "name": "stdout"
        }
      ]
    },
    {
      "metadata": {
        "id": "1G1sXwnJjE5T",
        "colab_type": "code",
        "outputId": "d69e891b-9dde-4f19-89de-f819de018e0c",
        "colab": {
          "base_uri": "https://localhost:8080/",
          "height": 442
        }
      },
      "cell_type": "code",
      "source": [
        "model6 = sms.ols(formula=\"medv ~ age\", data=boston).fit()\n",
        "print(model6.summary())"
      ],
      "execution_count": 0,
      "outputs": [
        {
          "output_type": "stream",
          "text": [
            "                            OLS Regression Results                            \n",
            "==============================================================================\n",
            "Dep. Variable:                   medv   R-squared:                       0.142\n",
            "Model:                            OLS   Adj. R-squared:                  0.140\n",
            "Method:                 Least Squares   F-statistic:                     83.48\n",
            "Date:                Mon, 18 Mar 2019   Prob (F-statistic):           1.57e-18\n",
            "Time:                        20:45:13   Log-Likelihood:                -1801.5\n",
            "No. Observations:                 506   AIC:                             3607.\n",
            "Df Residuals:                     504   BIC:                             3615.\n",
            "Df Model:                           1                                         \n",
            "Covariance Type:            nonrobust                                         \n",
            "==============================================================================\n",
            "                 coef    std err          t      P>|t|      [0.025      0.975]\n",
            "------------------------------------------------------------------------------\n",
            "Intercept     30.9787      0.999     31.006      0.000      29.016      32.942\n",
            "age           -0.1232      0.013     -9.137      0.000      -0.150      -0.097\n",
            "==============================================================================\n",
            "Omnibus:                      170.034   Durbin-Watson:                   0.613\n",
            "Prob(Omnibus):                  0.000   Jarque-Bera (JB):              456.983\n",
            "Skew:                           1.671   Prob(JB):                    5.85e-100\n",
            "Kurtosis:                       6.240   Cond. No.                         195.\n",
            "==============================================================================\n",
            "\n",
            "Warnings:\n",
            "[1] Standard Errors assume that the covariance matrix of the errors is correctly specified.\n"
          ],
          "name": "stdout"
        }
      ]
    },
    {
      "metadata": {
        "id": "L-aW_90DjQYv",
        "colab_type": "code",
        "outputId": "43bb3f41-f9e7-4c4a-d7e5-c61b5aa97d02",
        "colab": {
          "base_uri": "https://localhost:8080/",
          "height": 459
        }
      },
      "cell_type": "code",
      "source": [
        "model7 = sms.ols(formula=\"medv ~ lstat + age\", data=boston).fit()\n",
        "print(model7.summary())"
      ],
      "execution_count": 0,
      "outputs": [
        {
          "output_type": "stream",
          "text": [
            "                            OLS Regression Results                            \n",
            "==============================================================================\n",
            "Dep. Variable:                   medv   R-squared:                       0.551\n",
            "Model:                            OLS   Adj. R-squared:                  0.549\n",
            "Method:                 Least Squares   F-statistic:                     309.0\n",
            "Date:                Mon, 18 Mar 2019   Prob (F-statistic):           2.98e-88\n",
            "Time:                        20:45:38   Log-Likelihood:                -1637.5\n",
            "No. Observations:                 506   AIC:                             3281.\n",
            "Df Residuals:                     503   BIC:                             3294.\n",
            "Df Model:                           2                                         \n",
            "Covariance Type:            nonrobust                                         \n",
            "==============================================================================\n",
            "                 coef    std err          t      P>|t|      [0.025      0.975]\n",
            "------------------------------------------------------------------------------\n",
            "Intercept     33.2228      0.731     45.458      0.000      31.787      34.659\n",
            "lstat         -1.0321      0.048    -21.416      0.000      -1.127      -0.937\n",
            "age            0.0345      0.012      2.826      0.005       0.011       0.059\n",
            "==============================================================================\n",
            "Omnibus:                      124.288   Durbin-Watson:                   0.945\n",
            "Prob(Omnibus):                  0.000   Jarque-Bera (JB):              244.026\n",
            "Skew:                           1.362   Prob(JB):                     1.02e-53\n",
            "Kurtosis:                       5.038   Cond. No.                         201.\n",
            "==============================================================================\n",
            "\n",
            "Warnings:\n",
            "[1] Standard Errors assume that the covariance matrix of the errors is correctly specified.\n"
          ],
          "name": "stdout"
        }
      ]
    },
    {
      "metadata": {
        "id": "jKVslPlylKnS",
        "colab_type": "code",
        "outputId": "ebbed7ab-0e83-4521-ea9d-f154e1640ed0",
        "colab": {
          "base_uri": "https://localhost:8080/",
          "height": 663
        }
      },
      "cell_type": "code",
      "source": [
        "model8 = sms.ols(formula=\"medv ~ zn + indus + chas\t+ nox\t+ rm\t+ age\t+ dis\t+ rad\t+ tax\t+ ptratio\t+ b\t+ lstat\", data=boston).fit()\n",
        "print(model8.summary())"
      ],
      "execution_count": 0,
      "outputs": [
        {
          "output_type": "stream",
          "text": [
            "                            OLS Regression Results                            \n",
            "==============================================================================\n",
            "Dep. Variable:                   medv   R-squared:                       0.735\n",
            "Model:                            OLS   Adj. R-squared:                  0.728\n",
            "Method:                 Least Squares   F-statistic:                     113.9\n",
            "Date:                Mon, 18 Mar 2019   Prob (F-statistic):          1.23e-133\n",
            "Time:                        20:55:01   Log-Likelihood:                -1504.3\n",
            "No. Observations:                 506   AIC:                             3035.\n",
            "Df Residuals:                     493   BIC:                             3090.\n",
            "Df Model:                          12                                         \n",
            "Covariance Type:            nonrobust                                         \n",
            "==============================================================================\n",
            "                 coef    std err          t      P>|t|      [0.025      0.975]\n",
            "------------------------------------------------------------------------------\n",
            "Intercept     35.3797      5.143      6.879      0.000      25.274      45.485\n",
            "zn             0.0425      0.014      3.077      0.002       0.015       0.070\n",
            "indus          0.0281      0.062      0.452      0.651      -0.094       0.150\n",
            "chas           2.8284      0.869      3.255      0.001       1.121       4.536\n",
            "nox          -17.0182      3.851     -4.420      0.000     -24.584      -9.452\n",
            "rm             3.8460      0.422      9.116      0.000       3.017       4.675\n",
            "age            0.0005      0.013      0.041      0.967      -0.026       0.027\n",
            "dis           -1.3990      0.200     -6.993      0.000      -1.792      -1.006\n",
            "rad            0.2478      0.065      3.838      0.000       0.121       0.375\n",
            "tax           -0.0122      0.004     -3.210      0.001      -0.020      -0.005\n",
            "ptratio       -0.9437      0.132     -7.145      0.000      -1.203      -0.684\n",
            "b              0.0103      0.003      3.841      0.000       0.005       0.016\n",
            "lstat         -0.5502      0.051    -10.870      0.000      -0.650      -0.451\n",
            "==============================================================================\n",
            "Omnibus:                      171.086   Durbin-Watson:                   1.070\n",
            "Prob(Omnibus):                  0.000   Jarque-Bera (JB):              761.307\n",
            "Skew:                           1.449   Prob(JB):                    4.83e-166\n",
            "Kurtosis:                       8.264   Cond. No.                     1.51e+04\n",
            "==============================================================================\n",
            "\n",
            "Warnings:\n",
            "[1] Standard Errors assume that the covariance matrix of the errors is correctly specified.\n",
            "[2] The condition number is large, 1.51e+04. This might indicate that there are\n",
            "strong multicollinearity or other numerical problems.\n"
          ],
          "name": "stdout"
        }
      ]
    },
    {
      "metadata": {
        "id": "GYHuXhZ1muj1",
        "colab_type": "code",
        "outputId": "760a47dd-4163-4289-ea01-cb8979905920",
        "colab": {
          "base_uri": "https://localhost:8080/",
          "height": 629
        }
      },
      "cell_type": "code",
      "source": [
        "model9 = sms.ols(formula=\"medv ~ zn + chas\t+ nox\t+ rm + dis\t+ rad\t+ tax\t+ ptratio\t+ b\t+ lstat\", data=boston).fit() \n",
        "print(model9.summary())"
      ],
      "execution_count": 12,
      "outputs": [
        {
          "output_type": "stream",
          "text": [
            "                            OLS Regression Results                            \n",
            "==============================================================================\n",
            "Dep. Variable:                   medv   R-squared:                       0.735\n",
            "Model:                            OLS   Adj. R-squared:                  0.729\n",
            "Method:                 Least Squares   F-statistic:                     137.2\n",
            "Date:                Mon, 18 Mar 2019   Prob (F-statistic):          9.95e-136\n",
            "Time:                        23:18:24   Log-Likelihood:                -1504.4\n",
            "No. Observations:                 506   AIC:                             3031.\n",
            "Df Residuals:                     495   BIC:                             3077.\n",
            "Df Model:                          10                                         \n",
            "Covariance Type:            nonrobust                                         \n",
            "==============================================================================\n",
            "                 coef    std err          t      P>|t|      [0.025      0.975]\n",
            "------------------------------------------------------------------------------\n",
            "Intercept     35.2255      5.107      6.898      0.000      25.192      45.259\n",
            "zn             0.0417      0.014      3.069      0.002       0.015       0.068\n",
            "chas           2.8715      0.862      3.333      0.001       1.179       4.564\n",
            "nox          -16.5113      3.561     -4.637      0.000     -23.507      -9.515\n",
            "rm             3.8323      0.410      9.341      0.000       3.026       4.638\n",
            "dis           -1.4203      0.186     -7.625      0.000      -1.786      -1.054\n",
            "rad            0.2389      0.061      3.898      0.000       0.118       0.359\n",
            "tax           -0.0114      0.003     -3.357      0.001      -0.018      -0.005\n",
            "ptratio       -0.9355      0.130     -7.179      0.000      -1.192      -0.679\n",
            "b              0.0103      0.003      3.847      0.000       0.005       0.016\n",
            "lstat         -0.5479      0.047    -11.590      0.000      -0.641      -0.455\n",
            "==============================================================================\n",
            "Omnibus:                      171.393   Durbin-Watson:                   1.069\n",
            "Prob(Omnibus):                  0.000   Jarque-Bera (JB):              765.246\n",
            "Skew:                           1.451   Prob(JB):                    6.74e-167\n",
            "Kurtosis:                       8.280   Cond. No.                     1.46e+04\n",
            "==============================================================================\n",
            "\n",
            "Warnings:\n",
            "[1] Standard Errors assume that the covariance matrix of the errors is correctly specified.\n",
            "[2] The condition number is large, 1.46e+04. This might indicate that there are\n",
            "strong multicollinearity or other numerical problems.\n"
          ],
          "name": "stdout"
        }
      ]
    }
  ]
}